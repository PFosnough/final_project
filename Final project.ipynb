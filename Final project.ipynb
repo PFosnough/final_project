{
 "cells": [
  {
   "cell_type": "markdown",
   "id": "bc1f00be",
   "metadata": {},
   "source": [
    "# Final Project Peyton Fosnough"
   ]
  },
  {
   "cell_type": "markdown",
   "id": "6eb10f60",
   "metadata": {},
   "source": [
    "## Importing libraries"
   ]
  },
  {
   "cell_type": "code",
   "execution_count": 41,
   "id": "902c11d2",
   "metadata": {},
   "outputs": [],
   "source": [
    "import numpy as np\n",
    "import matplotlib.pyplot as plt\n",
    "import pandas as pd\n",
    "import seaborn as sns"
   ]
  },
  {
   "cell_type": "markdown",
   "id": "4828cefd",
   "metadata": {},
   "source": [
    "## Importing Dataset"
   ]
  },
  {
   "cell_type": "code",
   "execution_count": 42,
   "id": "f9c3790a",
   "metadata": {},
   "outputs": [],
   "source": [
    "dataset=pd.read_csv('games.csv')"
   ]
  },
  {
   "cell_type": "code",
   "execution_count": 43,
   "id": "7a6f8e28",
   "metadata": {},
   "outputs": [
    {
     "data": {
      "text/html": [
       "<div>\n",
       "<style scoped>\n",
       "    .dataframe tbody tr th:only-of-type {\n",
       "        vertical-align: middle;\n",
       "    }\n",
       "\n",
       "    .dataframe tbody tr th {\n",
       "        vertical-align: top;\n",
       "    }\n",
       "\n",
       "    .dataframe thead th {\n",
       "        text-align: right;\n",
       "    }\n",
       "</style>\n",
       "<table border=\"1\" class=\"dataframe\">\n",
       "  <thead>\n",
       "    <tr style=\"text-align: right;\">\n",
       "      <th></th>\n",
       "      <th>GAME_ID</th>\n",
       "      <th>HOME_TEAM_ID</th>\n",
       "      <th>VISITOR_TEAM_ID</th>\n",
       "      <th>SEASON</th>\n",
       "      <th>TEAM_ID_home</th>\n",
       "      <th>PTS_home</th>\n",
       "      <th>FG_PCT_home</th>\n",
       "      <th>FT_PCT_home</th>\n",
       "      <th>FG3_PCT_home</th>\n",
       "      <th>AST_home</th>\n",
       "      <th>REB_home</th>\n",
       "      <th>TEAM_ID_away</th>\n",
       "      <th>PTS_away</th>\n",
       "      <th>FG_PCT_away</th>\n",
       "      <th>FT_PCT_away</th>\n",
       "      <th>FG3_PCT_away</th>\n",
       "      <th>AST_away</th>\n",
       "      <th>REB_away</th>\n",
       "      <th>HOME_TEAM_WINS</th>\n",
       "    </tr>\n",
       "  </thead>\n",
       "  <tbody>\n",
       "    <tr>\n",
       "      <th>0</th>\n",
       "      <td>22200477</td>\n",
       "      <td>1610612740</td>\n",
       "      <td>1610612759</td>\n",
       "      <td>2022</td>\n",
       "      <td>1610612740</td>\n",
       "      <td>126.0</td>\n",
       "      <td>0.484</td>\n",
       "      <td>0.926</td>\n",
       "      <td>0.382</td>\n",
       "      <td>25.0</td>\n",
       "      <td>46.0</td>\n",
       "      <td>1610612759</td>\n",
       "      <td>117.0</td>\n",
       "      <td>0.478</td>\n",
       "      <td>0.815</td>\n",
       "      <td>0.321</td>\n",
       "      <td>23.0</td>\n",
       "      <td>44.0</td>\n",
       "      <td>1</td>\n",
       "    </tr>\n",
       "    <tr>\n",
       "      <th>1</th>\n",
       "      <td>22200478</td>\n",
       "      <td>1610612762</td>\n",
       "      <td>1610612764</td>\n",
       "      <td>2022</td>\n",
       "      <td>1610612762</td>\n",
       "      <td>120.0</td>\n",
       "      <td>0.488</td>\n",
       "      <td>0.952</td>\n",
       "      <td>0.457</td>\n",
       "      <td>16.0</td>\n",
       "      <td>40.0</td>\n",
       "      <td>1610612764</td>\n",
       "      <td>112.0</td>\n",
       "      <td>0.561</td>\n",
       "      <td>0.765</td>\n",
       "      <td>0.333</td>\n",
       "      <td>20.0</td>\n",
       "      <td>37.0</td>\n",
       "      <td>1</td>\n",
       "    </tr>\n",
       "    <tr>\n",
       "      <th>2</th>\n",
       "      <td>22200466</td>\n",
       "      <td>1610612739</td>\n",
       "      <td>1610612749</td>\n",
       "      <td>2022</td>\n",
       "      <td>1610612739</td>\n",
       "      <td>114.0</td>\n",
       "      <td>0.482</td>\n",
       "      <td>0.786</td>\n",
       "      <td>0.313</td>\n",
       "      <td>22.0</td>\n",
       "      <td>37.0</td>\n",
       "      <td>1610612749</td>\n",
       "      <td>106.0</td>\n",
       "      <td>0.470</td>\n",
       "      <td>0.682</td>\n",
       "      <td>0.433</td>\n",
       "      <td>20.0</td>\n",
       "      <td>46.0</td>\n",
       "      <td>1</td>\n",
       "    </tr>\n",
       "    <tr>\n",
       "      <th>3</th>\n",
       "      <td>22200467</td>\n",
       "      <td>1610612755</td>\n",
       "      <td>1610612765</td>\n",
       "      <td>2022</td>\n",
       "      <td>1610612755</td>\n",
       "      <td>113.0</td>\n",
       "      <td>0.441</td>\n",
       "      <td>0.909</td>\n",
       "      <td>0.297</td>\n",
       "      <td>27.0</td>\n",
       "      <td>49.0</td>\n",
       "      <td>1610612765</td>\n",
       "      <td>93.0</td>\n",
       "      <td>0.392</td>\n",
       "      <td>0.735</td>\n",
       "      <td>0.261</td>\n",
       "      <td>15.0</td>\n",
       "      <td>46.0</td>\n",
       "      <td>1</td>\n",
       "    </tr>\n",
       "    <tr>\n",
       "      <th>4</th>\n",
       "      <td>22200468</td>\n",
       "      <td>1610612737</td>\n",
       "      <td>1610612741</td>\n",
       "      <td>2022</td>\n",
       "      <td>1610612737</td>\n",
       "      <td>108.0</td>\n",
       "      <td>0.429</td>\n",
       "      <td>1.000</td>\n",
       "      <td>0.378</td>\n",
       "      <td>22.0</td>\n",
       "      <td>47.0</td>\n",
       "      <td>1610612741</td>\n",
       "      <td>110.0</td>\n",
       "      <td>0.500</td>\n",
       "      <td>0.773</td>\n",
       "      <td>0.292</td>\n",
       "      <td>20.0</td>\n",
       "      <td>47.0</td>\n",
       "      <td>0</td>\n",
       "    </tr>\n",
       "  </tbody>\n",
       "</table>\n",
       "</div>"
      ],
      "text/plain": [
       "    GAME_ID  HOME_TEAM_ID  VISITOR_TEAM_ID  SEASON  TEAM_ID_home  PTS_home  \\\n",
       "0  22200477    1610612740       1610612759    2022    1610612740     126.0   \n",
       "1  22200478    1610612762       1610612764    2022    1610612762     120.0   \n",
       "2  22200466    1610612739       1610612749    2022    1610612739     114.0   \n",
       "3  22200467    1610612755       1610612765    2022    1610612755     113.0   \n",
       "4  22200468    1610612737       1610612741    2022    1610612737     108.0   \n",
       "\n",
       "   FG_PCT_home  FT_PCT_home  FG3_PCT_home  AST_home  REB_home  TEAM_ID_away  \\\n",
       "0        0.484        0.926         0.382      25.0      46.0    1610612759   \n",
       "1        0.488        0.952         0.457      16.0      40.0    1610612764   \n",
       "2        0.482        0.786         0.313      22.0      37.0    1610612749   \n",
       "3        0.441        0.909         0.297      27.0      49.0    1610612765   \n",
       "4        0.429        1.000         0.378      22.0      47.0    1610612741   \n",
       "\n",
       "   PTS_away  FG_PCT_away  FT_PCT_away  FG3_PCT_away  AST_away  REB_away  \\\n",
       "0     117.0        0.478        0.815         0.321      23.0      44.0   \n",
       "1     112.0        0.561        0.765         0.333      20.0      37.0   \n",
       "2     106.0        0.470        0.682         0.433      20.0      46.0   \n",
       "3      93.0        0.392        0.735         0.261      15.0      46.0   \n",
       "4     110.0        0.500        0.773         0.292      20.0      47.0   \n",
       "\n",
       "   HOME_TEAM_WINS  \n",
       "0               1  \n",
       "1               1  \n",
       "2               1  \n",
       "3               1  \n",
       "4               0  "
      ]
     },
     "execution_count": 43,
     "metadata": {},
     "output_type": "execute_result"
    }
   ],
   "source": [
    "dataset.head()"
   ]
  },
  {
   "cell_type": "code",
   "execution_count": 44,
   "id": "2de84633",
   "metadata": {},
   "outputs": [
    {
     "name": "stdout",
     "output_type": "stream",
     "text": [
      "<class 'pandas.core.frame.DataFrame'>\n",
      "RangeIndex: 26651 entries, 0 to 26650\n",
      "Data columns (total 19 columns):\n",
      " #   Column           Non-Null Count  Dtype  \n",
      "---  ------           --------------  -----  \n",
      " 0   GAME_ID          26651 non-null  int64  \n",
      " 1   HOME_TEAM_ID     26651 non-null  int64  \n",
      " 2   VISITOR_TEAM_ID  26651 non-null  int64  \n",
      " 3   SEASON           26651 non-null  int64  \n",
      " 4   TEAM_ID_home     26651 non-null  int64  \n",
      " 5   PTS_home         26552 non-null  float64\n",
      " 6   FG_PCT_home      26552 non-null  float64\n",
      " 7   FT_PCT_home      26552 non-null  float64\n",
      " 8   FG3_PCT_home     26552 non-null  float64\n",
      " 9   AST_home         26552 non-null  float64\n",
      " 10  REB_home         26552 non-null  float64\n",
      " 11  TEAM_ID_away     26651 non-null  int64  \n",
      " 12  PTS_away         26552 non-null  float64\n",
      " 13  FG_PCT_away      26552 non-null  float64\n",
      " 14  FT_PCT_away      26552 non-null  float64\n",
      " 15  FG3_PCT_away     26552 non-null  float64\n",
      " 16  AST_away         26552 non-null  float64\n",
      " 17  REB_away         26552 non-null  float64\n",
      " 18  HOME_TEAM_WINS   26651 non-null  int64  \n",
      "dtypes: float64(12), int64(7)\n",
      "memory usage: 3.9 MB\n"
     ]
    }
   ],
   "source": [
    "dataset.info()"
   ]
  },
  {
   "cell_type": "markdown",
   "id": "4dc0644f",
   "metadata": {},
   "source": [
    "## Missing data with Numpy"
   ]
  },
  {
   "cell_type": "code",
   "execution_count": 45,
   "id": "2625d559",
   "metadata": {},
   "outputs": [
    {
     "data": {
      "text/plain": [
       "GAME_ID             0\n",
       "HOME_TEAM_ID        0\n",
       "VISITOR_TEAM_ID     0\n",
       "SEASON              0\n",
       "TEAM_ID_home        0\n",
       "PTS_home           99\n",
       "FG_PCT_home        99\n",
       "FT_PCT_home        99\n",
       "FG3_PCT_home       99\n",
       "AST_home           99\n",
       "REB_home           99\n",
       "TEAM_ID_away        0\n",
       "PTS_away           99\n",
       "FG_PCT_away        99\n",
       "FT_PCT_away        99\n",
       "FG3_PCT_away       99\n",
       "AST_away           99\n",
       "REB_away           99\n",
       "HOME_TEAM_WINS      0\n",
       "dtype: int64"
      ]
     },
     "execution_count": 45,
     "metadata": {},
     "output_type": "execute_result"
    }
   ],
   "source": [
    "dataset.isnull().sum()"
   ]
  },
  {
   "cell_type": "markdown",
   "id": "66ce5054",
   "metadata": {},
   "source": [
    "### Check distribution to tell whether we should use mean or median"
   ]
  },
  {
   "cell_type": "code",
   "execution_count": 46,
   "id": "2398e0b8",
   "metadata": {},
   "outputs": [
    {
     "data": {
      "text/plain": [
       "<AxesSubplot:xlabel='PTS_home', ylabel='Count'>"
      ]
     },
     "execution_count": 46,
     "metadata": {},
     "output_type": "execute_result"
    },
    {
     "data": {
      "image/png": "[encoded data removed]",
      "text/plain": [
       "<Figure size 432x288 with 1 Axes>"
      ]
     },
     "metadata": {
      "needs_background": "light"
     },
     "output_type": "display_data"
    }
   ],
   "source": [
    "sns.histplot(dataset['PTS_home'])"
   ]
  },
  {
   "cell_type": "markdown",
   "id": "8e150a2c",
   "metadata": {},
   "source": [
    "### Use mean, data is normal"
   ]
  },
  {
   "cell_type": "code",
   "execution_count": 47,
   "id": "bc362f78",
   "metadata": {},
   "outputs": [],
   "source": [
    "HomePTSmean=dataset['PTS_home'].mean()\n",
    "dataset['PTS_home'].fillna(HomePTSmean, inplace=True)"
   ]
  },
  {
   "cell_type": "code",
   "execution_count": 48,
   "id": "443c26de",
   "metadata": {},
   "outputs": [
    {
     "data": {
      "text/plain": [
       "GAME_ID             0\n",
       "HOME_TEAM_ID        0\n",
       "VISITOR_TEAM_ID     0\n",
       "SEASON              0\n",
       "TEAM_ID_home        0\n",
       "PTS_home            0\n",
       "FG_PCT_home        99\n",
       "FT_PCT_home        99\n",
       "FG3_PCT_home       99\n",
       "AST_home           99\n",
       "REB_home           99\n",
       "TEAM_ID_away        0\n",
       "PTS_away           99\n",
       "FG_PCT_away        99\n",
       "FT_PCT_away        99\n",
       "FG3_PCT_away       99\n",
       "AST_away           99\n",
       "REB_away           99\n",
       "HOME_TEAM_WINS      0\n",
       "dtype: int64"
      ]
     },
     "execution_count": 48,
     "metadata": {},
     "output_type": "execute_result"
    }
   ],
   "source": [
    "dataset.isnull().sum()"
   ]
  },
  {
   "cell_type": "code",
   "execution_count": 49,
   "id": "d3d72665",
   "metadata": {},
   "outputs": [
    {
     "data": {
      "text/plain": [
       "<AxesSubplot:xlabel='FG_PCT_home', ylabel='Count'>"
      ]
     },
     "execution_count": 49,
     "metadata": {},
     "output_type": "execute_result"
    },
    {
     "data": {
      "image/png": "[encoded data removed]",
      "text/plain": [
       "<Figure size 432x288 with 1 Axes>"
      ]
     },
     "metadata": {
      "needs_background": "light"
     },
     "output_type": "display_data"
    }
   ],
   "source": [
    "sns.histplot(dataset['FG_PCT_home'])"
   ]
  },
  {
   "cell_type": "code",
   "execution_count": 50,
   "id": "727e7d6d",
   "metadata": {},
   "outputs": [],
   "source": [
    "FGpctmean=dataset['FG_PCT_home'].mean()\n",
    "dataset['FG_PCT_home'].fillna(FGpctmean, inplace=True)"
   ]
  },
  {
   "cell_type": "code",
   "execution_count": 51,
   "id": "0db5abe1",
   "metadata": {},
   "outputs": [
    {
     "data": {
      "text/plain": [
       "GAME_ID             0\n",
       "HOME_TEAM_ID        0\n",
       "VISITOR_TEAM_ID     0\n",
       "SEASON              0\n",
       "TEAM_ID_home        0\n",
       "PTS_home            0\n",
       "FG_PCT_home         0\n",
       "FT_PCT_home        99\n",
       "FG3_PCT_home       99\n",
       "AST_home           99\n",
       "REB_home           99\n",
       "TEAM_ID_away        0\n",
       "PTS_away           99\n",
       "FG_PCT_away        99\n",
       "FT_PCT_away        99\n",
       "FG3_PCT_away       99\n",
       "AST_away           99\n",
       "REB_away           99\n",
       "HOME_TEAM_WINS      0\n",
       "dtype: int64"
      ]
     },
     "execution_count": 51,
     "metadata": {},
     "output_type": "execute_result"
    }
   ],
   "source": [
    "dataset.isnull().sum()"
   ]
  },
  {
   "cell_type": "markdown",
   "id": "7ccd59e2",
   "metadata": {},
   "source": [
    "### Time to get rid of the rest of the null values"
   ]
  },
  {
   "cell_type": "code",
   "execution_count": 52,
   "id": "2fc60ae1",
   "metadata": {},
   "outputs": [],
   "source": [
    "FTpctmean=dataset['FT_PCT_home'].mean()\n",
    "dataset['FT_PCT_home'].fillna(FTpctmean, inplace=True)\n",
    "\n",
    "FG3pctmean=dataset['FG3_PCT_home'].mean()\n",
    "dataset['FG3_PCT_home'].fillna(FG3pctmean, inplace=True)\n",
    "\n",
    "ASThomemean=dataset['AST_home'].mean()\n",
    "dataset['AST_home'].fillna(ASThomemean, inplace=True)\n",
    "\n",
    "REBHmean=dataset['REB_home'].mean()\n",
    "dataset['REB_home'].fillna(REBHmean, inplace=True)\n",
    "\n",
    "PTSAmean=dataset['PTS_away'].mean()\n",
    "dataset['PTS_away'].fillna(PTSAmean, inplace=True)\n",
    "\n",
    "FGpctAmean=dataset['FG_PCT_away'].mean()\n",
    "dataset['FG_PCT_away'].fillna(FGpctAmean, inplace=True)\n",
    "\n",
    "FTpctAmean=dataset['FT_PCT_away'].mean()\n",
    "dataset['FT_PCT_away'].fillna(FTpctAmean, inplace=True)\n",
    "\n",
    "FG3pctAmean=dataset['FG3_PCT_away'].mean()\n",
    "dataset['FG3_PCT_away'].fillna(FG3pctAmean, inplace=True)\n",
    "\n",
    "ASTawaymean=dataset['AST_away'].mean()\n",
    "dataset['AST_away'].fillna(ASTawaymean, inplace=True)\n",
    "\n",
    "REBAmean=dataset['REB_away'].mean()\n",
    "dataset['REB_away'].fillna(REBAmean, inplace=True)"
   ]
  },
  {
   "cell_type": "code",
   "execution_count": 53,
   "id": "585b37e7",
   "metadata": {},
   "outputs": [
    {
     "data": {
      "text/plain": [
       "GAME_ID            0\n",
       "HOME_TEAM_ID       0\n",
       "VISITOR_TEAM_ID    0\n",
       "SEASON             0\n",
       "TEAM_ID_home       0\n",
       "PTS_home           0\n",
       "FG_PCT_home        0\n",
       "FT_PCT_home        0\n",
       "FG3_PCT_home       0\n",
       "AST_home           0\n",
       "REB_home           0\n",
       "TEAM_ID_away       0\n",
       "PTS_away           0\n",
       "FG_PCT_away        0\n",
       "FT_PCT_away        0\n",
       "FG3_PCT_away       0\n",
       "AST_away           0\n",
       "REB_away           0\n",
       "HOME_TEAM_WINS     0\n",
       "dtype: int64"
      ]
     },
     "execution_count": 53,
     "metadata": {},
     "output_type": "execute_result"
    }
   ],
   "source": [
    "dataset.isnull().sum()"
   ]
  },
  {
   "cell_type": "markdown",
   "id": "63813a16",
   "metadata": {},
   "source": [
    "### Split the data into independent and dependent"
   ]
  },
  {
   "cell_type": "code",
   "execution_count": 54,
   "id": "b15931b9",
   "metadata": {},
   "outputs": [
    {
     "data": {
      "text/plain": [
       "Index(['GAME_ID', 'HOME_TEAM_ID', 'VISITOR_TEAM_ID', 'SEASON', 'TEAM_ID_home',\n",
       "       'PTS_home', 'FG_PCT_home', 'FT_PCT_home', 'FG3_PCT_home', 'AST_home',\n",
       "       'REB_home', 'TEAM_ID_away', 'PTS_away', 'FG_PCT_away', 'FT_PCT_away',\n",
       "       'FG3_PCT_away', 'AST_away', 'REB_away', 'HOME_TEAM_WINS'],\n",
       "      dtype='object')"
      ]
     },
     "execution_count": 54,
     "metadata": {},
     "output_type": "execute_result"
    }
   ],
   "source": [
    "dataset.columns"
   ]
  },
  {
   "cell_type": "markdown",
   "id": "d858c385",
   "metadata": {},
   "source": [
    "### Trying to predict if the home team wins or not"
   ]
  },
  {
   "cell_type": "code",
   "execution_count": 55,
   "id": "31971345",
   "metadata": {},
   "outputs": [],
   "source": [
    "X=dataset.drop(['HOME_TEAM_WINS', 'GAME_ID', 'HOME_TEAM_ID', 'VISITOR_TEAM_ID', 'TEAM_ID_away', 'TEAM_ID_home'],axis=1)\n",
    "Y=dataset[['HOME_TEAM_WINS']]"
   ]
  },
  {
   "cell_type": "markdown",
   "id": "beecd8c8",
   "metadata": {},
   "source": [
    "## Experiment 1"
   ]
  },
  {
   "cell_type": "markdown",
   "id": "fc3de392",
   "metadata": {},
   "source": [
    "### Split dataset into training/testing/validation sets"
   ]
  },
  {
   "cell_type": "code",
   "execution_count": 56,
   "id": "50fc41be",
   "metadata": {},
   "outputs": [],
   "source": [
    "from sklearn.model_selection import train_test_split\n",
    "X_train,X_test,Y_train,Y_test=train_test_split(X,Y,test_size=.4,random_state=50)"
   ]
  },
  {
   "cell_type": "markdown",
   "id": "ac5a638e",
   "metadata": {},
   "source": [
    "### Training the Logistic Regression model on the training set"
   ]
  },
  {
   "cell_type": "code",
   "execution_count": 57,
   "id": "0e1dfc79",
   "metadata": {},
   "outputs": [
    {
     "data": {
      "text/plain": [
       "LogisticRegression(max_iter=10000)"
      ]
     },
     "execution_count": 57,
     "metadata": {},
     "output_type": "execute_result"
    }
   ],
   "source": [
    "from sklearn.linear_model import LogisticRegression\n",
    "classifier=LogisticRegression(max_iter=10000)\n",
    "classifier.fit(X_train.values,Y_train.values.ravel())"
   ]
  },
  {
   "cell_type": "markdown",
   "id": "5d5907f9",
   "metadata": {},
   "source": [
    "### Making confusion matrix"
   ]
  },
  {
   "cell_type": "code",
   "execution_count": 58,
   "id": "3fb271dc",
   "metadata": {},
   "outputs": [],
   "source": [
    "y_pred=classifier.predict(X_test.values)"
   ]
  },
  {
   "cell_type": "code",
   "execution_count": 59,
   "id": "c720b90c",
   "metadata": {},
   "outputs": [
    {
     "name": "stdout",
     "output_type": "stream",
     "text": [
      "[[4354   45]\n",
      " [   0 6262]]\n"
     ]
    }
   ],
   "source": [
    "from sklearn.metrics import confusion_matrix,ConfusionMatrixDisplay\n",
    "cm=confusion_matrix(Y_test,y_pred)\n",
    "print(cm)"
   ]
  },
  {
   "cell_type": "code",
   "execution_count": 60,
   "id": "4e510199",
   "metadata": {},
   "outputs": [
    {
     "data": {
      "image/png": "[encoded data removed]",
      "text/plain": [
       "<Figure size 432x288 with 2 Axes>"
      ]
     },
     "metadata": {
      "needs_background": "light"
     },
     "output_type": "display_data"
    }
   ],
   "source": [
    "disp=ConfusionMatrixDisplay(confusion_matrix=cm,display_labels=classifier.classes_)\n",
    "disp.plot()\n",
    "plt.show()"
   ]
  },
  {
   "cell_type": "markdown",
   "id": "06077396",
   "metadata": {},
   "source": [
    "### True Negative- 4354, Flase Negative- 0, True Positive - 6262, Flase positive - 45"
   ]
  },
  {
   "cell_type": "markdown",
   "id": "89c30a06",
   "metadata": {},
   "source": [
    "### Classification Report "
   ]
  },
  {
   "cell_type": "code",
   "execution_count": 61,
   "id": "9ec88cec",
   "metadata": {},
   "outputs": [
    {
     "name": "stdout",
     "output_type": "stream",
     "text": [
      "              precision    recall  f1-score   support\n",
      "\n",
      "           0       1.00      0.99      0.99      4399\n",
      "           1       0.99      1.00      1.00      6262\n",
      "\n",
      "    accuracy                           1.00     10661\n",
      "   macro avg       1.00      0.99      1.00     10661\n",
      "weighted avg       1.00      1.00      1.00     10661\n",
      "\n"
     ]
    }
   ],
   "source": [
    "from sklearn.metrics import classification_report\n",
    "print(classification_report(Y_test,y_pred))"
   ]
  },
  {
   "cell_type": "markdown",
   "id": "1a2d88ff",
   "metadata": {},
   "source": [
    "### Accuracy is  100% for 60/40 train/test split"
   ]
  },
  {
   "cell_type": "markdown",
   "id": "46075c30",
   "metadata": {},
   "source": [
    "## Experiment 2"
   ]
  },
  {
   "cell_type": "markdown",
   "id": "eccae01f",
   "metadata": {},
   "source": [
    "### Splitting the data again"
   ]
  },
  {
   "cell_type": "code",
   "execution_count": 62,
   "id": "48c0139e",
   "metadata": {},
   "outputs": [],
   "source": [
    "from sklearn.model_selection import train_test_split\n",
    "X_train,X_test,Y_train,Y_test=train_test_split(X,Y,test_size=.2,random_state=42)"
   ]
  },
  {
   "cell_type": "markdown",
   "id": "98e17209",
   "metadata": {},
   "source": [
    "### Training the Logistic Regression model"
   ]
  },
  {
   "cell_type": "code",
   "execution_count": 63,
   "id": "a66644e2",
   "metadata": {},
   "outputs": [
    {
     "data": {
      "text/plain": [
       "LogisticRegression(max_iter=10000)"
      ]
     },
     "execution_count": 63,
     "metadata": {},
     "output_type": "execute_result"
    }
   ],
   "source": [
    "from sklearn.linear_model import LogisticRegression\n",
    "classifier=LogisticRegression(max_iter=10000)\n",
    "classifier.fit(X_train.values,Y_train.values.ravel())"
   ]
  },
  {
   "cell_type": "markdown",
   "id": "b8dc8118",
   "metadata": {},
   "source": [
    "### Making confusion matrix"
   ]
  },
  {
   "cell_type": "code",
   "execution_count": 64,
   "id": "93b2a52d",
   "metadata": {},
   "outputs": [],
   "source": [
    "y_pred=classifier.predict(X_test.values)"
   ]
  },
  {
   "cell_type": "code",
   "execution_count": 65,
   "id": "7d296b3f",
   "metadata": {},
   "outputs": [
    {
     "name": "stdout",
     "output_type": "stream",
     "text": [
      "[[2184   17]\n",
      " [   0 3130]]\n"
     ]
    }
   ],
   "source": [
    "from sklearn.metrics import confusion_matrix,ConfusionMatrixDisplay\n",
    "cm=confusion_matrix(Y_test,y_pred)\n",
    "print(cm)"
   ]
  },
  {
   "cell_type": "code",
   "execution_count": 66,
   "id": "772f749d",
   "metadata": {},
   "outputs": [
    {
     "data": {
      "image/png": "[encoded data removed]",
      "text/plain": [
       "<Figure size 432x288 with 2 Axes>"
      ]
     },
     "metadata": {
      "needs_background": "light"
     },
     "output_type": "display_data"
    }
   ],
   "source": [
    "disp=ConfusionMatrixDisplay(confusion_matrix=cm,display_labels=classifier.classes_)\n",
    "disp.plot()\n",
    "plt.show()"
   ]
  },
  {
   "cell_type": "markdown",
   "id": "1b9c4592",
   "metadata": {},
   "source": [
    "### True Negative- 2184, False Negative - 0, True positive - 3130, False positive - 17"
   ]
  },
  {
   "cell_type": "markdown",
   "id": "60fde106",
   "metadata": {},
   "source": [
    "### Classification Report"
   ]
  },
  {
   "cell_type": "code",
   "execution_count": 67,
   "id": "2b3912b0",
   "metadata": {},
   "outputs": [
    {
     "name": "stdout",
     "output_type": "stream",
     "text": [
      "              precision    recall  f1-score   support\n",
      "\n",
      "           0       1.00      0.99      1.00      2201\n",
      "           1       0.99      1.00      1.00      3130\n",
      "\n",
      "    accuracy                           1.00      5331\n",
      "   macro avg       1.00      1.00      1.00      5331\n",
      "weighted avg       1.00      1.00      1.00      5331\n",
      "\n"
     ]
    }
   ],
   "source": [
    "from sklearn.metrics import classification_report\n",
    "print(classification_report(Y_test,y_pred))"
   ]
  },
  {
   "cell_type": "markdown",
   "id": "9e696c39",
   "metadata": {},
   "source": [
    "### Accuracy is still 100% for 80/20 split"
   ]
  },
  {
   "cell_type": "markdown",
   "id": "9289948c",
   "metadata": {},
   "source": [
    "## Experiment 3"
   ]
  },
  {
   "cell_type": "markdown",
   "id": "8a5e03ac",
   "metadata": {},
   "source": [
    "### Splitting dataset"
   ]
  },
  {
   "cell_type": "code",
   "execution_count": 68,
   "id": "0b06f761",
   "metadata": {},
   "outputs": [],
   "source": [
    "from sklearn.model_selection import train_test_split\n",
    "X_train,X_test,Y_train,Y_test=train_test_split(X,Y,test_size=.1,random_state=0)"
   ]
  },
  {
   "cell_type": "markdown",
   "id": "b8fc12fa",
   "metadata": {},
   "source": [
    "### Training the logistic regression model"
   ]
  },
  {
   "cell_type": "code",
   "execution_count": 69,
   "id": "d75a11d4",
   "metadata": {},
   "outputs": [
    {
     "data": {
      "text/plain": [
       "LogisticRegression(max_iter=10000)"
      ]
     },
     "execution_count": 69,
     "metadata": {},
     "output_type": "execute_result"
    }
   ],
   "source": [
    "from sklearn.linear_model import LogisticRegression\n",
    "classifier=LogisticRegression(max_iter=10000)\n",
    "classifier.fit(X_train.values,Y_train.values.ravel())"
   ]
  },
  {
   "cell_type": "markdown",
   "id": "ebe7e797",
   "metadata": {},
   "source": [
    "### Making confusion matrix"
   ]
  },
  {
   "cell_type": "code",
   "execution_count": 70,
   "id": "2b30b1e4",
   "metadata": {},
   "outputs": [],
   "source": [
    "y_pred=classifier.predict(X_test.values)"
   ]
  },
  {
   "cell_type": "code",
   "execution_count": 71,
   "id": "69acfeba",
   "metadata": {},
   "outputs": [
    {
     "name": "stdout",
     "output_type": "stream",
     "text": [
      "[[1062    8]\n",
      " [   0 1596]]\n"
     ]
    }
   ],
   "source": [
    "from sklearn.metrics import confusion_matrix,ConfusionMatrixDisplay\n",
    "cm=confusion_matrix(Y_test,y_pred)\n",
    "print(cm)"
   ]
  },
  {
   "cell_type": "code",
   "execution_count": 72,
   "id": "535694bc",
   "metadata": {},
   "outputs": [
    {
     "data": {
      "image/png": "[encoded data removed]",
      "text/plain": [
       "<Figure size 432x288 with 2 Axes>"
      ]
     },
     "metadata": {
      "needs_background": "light"
     },
     "output_type": "display_data"
    }
   ],
   "source": [
    "disp=ConfusionMatrixDisplay(confusion_matrix=cm,display_labels=classifier.classes_)\n",
    "disp.plot()\n",
    "plt.show()"
   ]
  },
  {
   "cell_type": "markdown",
   "id": "3788ff3b",
   "metadata": {},
   "source": [
    "### True Negative- 1062, false negative- 0, true positive - 1596, false positive- 8"
   ]
  },
  {
   "cell_type": "markdown",
   "id": "1492321c",
   "metadata": {},
   "source": [
    "### Classification Report"
   ]
  },
  {
   "cell_type": "code",
   "execution_count": 73,
   "id": "99621c2f",
   "metadata": {},
   "outputs": [
    {
     "name": "stdout",
     "output_type": "stream",
     "text": [
      "              precision    recall  f1-score   support\n",
      "\n",
      "           0       1.00      0.99      1.00      1070\n",
      "           1       1.00      1.00      1.00      1596\n",
      "\n",
      "    accuracy                           1.00      2666\n",
      "   macro avg       1.00      1.00      1.00      2666\n",
      "weighted avg       1.00      1.00      1.00      2666\n",
      "\n"
     ]
    }
   ],
   "source": [
    "from sklearn.metrics import classification_report\n",
    "print(classification_report(Y_test,y_pred))"
   ]
  },
  {
   "cell_type": "markdown",
   "id": "ee20a4b3",
   "metadata": {},
   "source": [
    "### Accuracy is 100% for 90/10 split"
   ]
  },
  {
   "cell_type": "code",
   "execution_count": null,
   "id": "7574a0aa",
   "metadata": {},
   "outputs": [],
   "source": []
  }
 ],
 "metadata": {
  "kernelspec": {
   "display_name": "Python 3",
   "language": "python",
   "name": "python3"
  },
  "language_info": {
   "codemirror_mode": {
    "name": "ipython",
    "version": 3
   },
   "file_extension": ".py",
   "mimetype": "text/x-python",
   "name": "python",
   "nbconvert_exporter": "python",
   "pygments_lexer": "ipython3",
   "version": "3.8.8"
  }
 },
 "nbformat": 4,
 "nbformat_minor": 5
}
